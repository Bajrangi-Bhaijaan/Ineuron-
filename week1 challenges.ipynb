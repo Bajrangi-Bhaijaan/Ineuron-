{
 "cells": [
  {
   "cell_type": "markdown",
   "id": "3119cd83",
   "metadata": {},
   "source": [
    "# Challenges:"
   ]
  },
  {
   "cell_type": "code",
   "execution_count": 1,
   "id": "2546692c",
   "metadata": {},
   "outputs": [],
   "source": [
    "s = \"this is My First Python programming class and i am learNING python string and its function\""
   ]
  },
  {
   "cell_type": "markdown",
   "id": "8bd44333",
   "metadata": {},
   "source": [
    "# 1. Try to extract data from index one to index 300 with a jump of 3\n"
   ]
  },
  {
   "cell_type": "code",
   "execution_count": 2,
   "id": "9643dff2",
   "metadata": {},
   "outputs": [
    {
     "data": {
      "text/plain": [
       "'h   r tnrrmglsnimeNGyosi dtfco'"
      ]
     },
     "execution_count": 2,
     "metadata": {},
     "output_type": "execute_result"
    }
   ],
   "source": [
    "s[1:300:3]"
   ]
  },
  {
   "cell_type": "markdown",
   "id": "c2cca04a",
   "metadata": {},
   "source": [
    "# 2. Try to reverse a string without using reverse function \n"
   ]
  },
  {
   "cell_type": "code",
   "execution_count": 3,
   "id": "e7278f4d",
   "metadata": {},
   "outputs": [
    {
     "data": {
      "text/plain": [
       "'noitcnuf sti dna gnirts nohtyp GNINrael ma i dna ssalc gnimmargorp nohtyP tsriF yM si siht'"
      ]
     },
     "execution_count": 3,
     "metadata": {},
     "output_type": "execute_result"
    }
   ],
   "source": [
    "s[::-1]\n"
   ]
  },
  {
   "cell_type": "markdown",
   "id": "2be906d7",
   "metadata": {},
   "source": [
    "# 3. Try to split a string after conversion of entire string in uppercase \n"
   ]
  },
  {
   "cell_type": "code",
   "execution_count": 4,
   "id": "8195f007",
   "metadata": {},
   "outputs": [
    {
     "data": {
      "text/plain": [
       "['THIS',\n",
       " 'IS',\n",
       " 'MY',\n",
       " 'FIRST',\n",
       " 'PYTHON',\n",
       " 'PROGRAMMING',\n",
       " 'CLASS',\n",
       " 'AND',\n",
       " 'I',\n",
       " 'AM',\n",
       " 'LEARNING',\n",
       " 'PYTHON',\n",
       " 'STRING',\n",
       " 'AND',\n",
       " 'ITS',\n",
       " 'FUNCTION']"
      ]
     },
     "execution_count": 4,
     "metadata": {},
     "output_type": "execute_result"
    }
   ],
   "source": [
    "s1=s.upper()\n",
    "s1.split(\" \")"
   ]
  },
  {
   "cell_type": "markdown",
   "id": "8bb673ba",
   "metadata": {},
   "source": [
    "# 4. try to convert the whole string into lower case \n"
   ]
  },
  {
   "cell_type": "code",
   "execution_count": 5,
   "id": "422642e1",
   "metadata": {},
   "outputs": [
    {
     "data": {
      "text/plain": [
       "'this is my first python programming class and i am learning python string and its function'"
      ]
     },
     "execution_count": 5,
     "metadata": {},
     "output_type": "execute_result"
    }
   ],
   "source": [
    "s.lower()"
   ]
  },
  {
   "cell_type": "markdown",
   "id": "33c6ddff",
   "metadata": {},
   "source": [
    "# 5 . Try to capitalize the whole string \n"
   ]
  },
  {
   "cell_type": "code",
   "execution_count": 6,
   "id": "3c9b62de",
   "metadata": {},
   "outputs": [
    {
     "data": {
      "text/plain": [
       "'This is my first python programming class and i am learning python string and its function'"
      ]
     },
     "execution_count": 6,
     "metadata": {},
     "output_type": "execute_result"
    }
   ],
   "source": [
    "s.capitalize()"
   ]
  },
  {
   "cell_type": "markdown",
   "id": "1657098e",
   "metadata": {},
   "source": [
    "# 6 . Write a diference between isalnum() and isalpha()\n"
   ]
  },
  {
   "cell_type": "markdown",
   "id": "47ae197a",
   "metadata": {},
   "source": [
    "The isalnum() function returns (True) if all the characters are \"alphabet letter and numbers\"\n",
    "    &\n",
    "The isalpha() function returns (True) if all the characters are \"alphabet letters\". "
   ]
  },
  {
   "cell_type": "markdown",
   "id": "94a8d3d4",
   "metadata": {},
   "source": [
    "# 7. Try to give an example of expand tab"
   ]
  },
  {
   "cell_type": "code",
   "execution_count": 15,
   "id": "07764da9",
   "metadata": {},
   "outputs": [
    {
     "data": {
      "text/plain": [
       "'B a j r a n g i'"
      ]
     },
     "execution_count": 15,
     "metadata": {},
     "output_type": "execute_result"
    }
   ],
   "source": [
    "str=\"B\\ta\\tj\\tr\\ta\\tn\\tg\\ti\"\n",
    "str2=str.expandtabs(2)\n",
    "str2"
   ]
  },
  {
   "cell_type": "markdown",
   "id": "7fbd4f6c",
   "metadata": {},
   "source": [
    "# 8 . Give an example of strip , lstrip and rstrip \n"
   ]
  },
  {
   "cell_type": "markdown",
   "id": "d9c312b3",
   "metadata": {},
   "source": [
    "# strip() function !"
   ]
  },
  {
   "cell_type": "code",
   "execution_count": 18,
   "id": "7aa8950d",
   "metadata": {},
   "outputs": [
    {
     "data": {
      "text/plain": [
       "'    Bajrangi-Bhaijaan    '"
      ]
     },
     "execution_count": 18,
     "metadata": {},
     "output_type": "execute_result"
    }
   ],
   "source": [
    "str=\"    Bajrangi-Bhaijaan    \"\n",
    "str"
   ]
  },
  {
   "cell_type": "code",
   "execution_count": 19,
   "id": "97f08576",
   "metadata": {},
   "outputs": [
    {
     "data": {
      "text/plain": [
       "'Bajrangi-Bhaijaan'"
      ]
     },
     "execution_count": 19,
     "metadata": {},
     "output_type": "execute_result"
    }
   ],
   "source": [
    "str.strip()"
   ]
  },
  {
   "cell_type": "markdown",
   "id": "1c42792a",
   "metadata": {},
   "source": [
    "# lstrip() !"
   ]
  },
  {
   "cell_type": "code",
   "execution_count": 20,
   "id": "6ef9f58f",
   "metadata": {},
   "outputs": [
    {
     "data": {
      "text/plain": [
       "'    Bajrangi-Bhaijaan    '"
      ]
     },
     "execution_count": 20,
     "metadata": {},
     "output_type": "execute_result"
    }
   ],
   "source": [
    "str"
   ]
  },
  {
   "cell_type": "code",
   "execution_count": 21,
   "id": "549a2063",
   "metadata": {},
   "outputs": [
    {
     "data": {
      "text/plain": [
       "'Bajrangi-Bhaijaan    '"
      ]
     },
     "execution_count": 21,
     "metadata": {},
     "output_type": "execute_result"
    }
   ],
   "source": [
    "str.lstrip()"
   ]
  },
  {
   "cell_type": "markdown",
   "id": "ba9259b6",
   "metadata": {},
   "source": [
    "# rstrip() !"
   ]
  },
  {
   "cell_type": "code",
   "execution_count": 22,
   "id": "5e2089b4",
   "metadata": {},
   "outputs": [
    {
     "data": {
      "text/plain": [
       "'    Bajrangi-Bhaijaan    '"
      ]
     },
     "execution_count": 22,
     "metadata": {},
     "output_type": "execute_result"
    }
   ],
   "source": [
    "str"
   ]
  },
  {
   "cell_type": "code",
   "execution_count": 23,
   "id": "7b546ecc",
   "metadata": {},
   "outputs": [
    {
     "data": {
      "text/plain": [
       "'    Bajrangi-Bhaijaan'"
      ]
     },
     "execution_count": 23,
     "metadata": {},
     "output_type": "execute_result"
    }
   ],
   "source": [
    "str.rstrip()"
   ]
  },
  {
   "cell_type": "markdown",
   "id": "3ad9c581",
   "metadata": {},
   "source": [
    "# 9.  Replace a string charecter by another charector by taking your own example \n",
    "\"sudhanshu\""
   ]
  },
  {
   "cell_type": "code",
   "execution_count": 24,
   "id": "e39373fd",
   "metadata": {},
   "outputs": [
    {
     "data": {
      "text/plain": [
       "'s@dhansh@'"
      ]
     },
     "execution_count": 24,
     "metadata": {},
     "output_type": "execute_result"
    }
   ],
   "source": [
    "str=\"sudhanshu\"\n",
    "str.replace('u','@')\n"
   ]
  },
  {
   "cell_type": "markdown",
   "id": "33a4dd23",
   "metadata": {},
   "source": [
    "# 10 . Try  to give a defination of string center function with and exmple"
   ]
  },
  {
   "cell_type": "markdown",
   "id": "7d684d86",
   "metadata": {},
   "source": [
    "Center() function of a string puts the desired string in center align with specific characters."
   ]
  },
  {
   "cell_type": "code",
   "execution_count": 29,
   "id": "8c7e0e37",
   "metadata": {},
   "outputs": [
    {
     "name": "stdout",
     "output_type": "stream",
     "text": [
      "******Bajrangi******\n"
     ]
    }
   ],
   "source": [
    "str=\"Bajrangi\"\n",
    "str1=str.center(20,'*')\n",
    "print(str1)"
   ]
  },
  {
   "cell_type": "markdown",
   "id": "c366a4ac",
   "metadata": {},
   "source": [
    "# 11 . Write your own definition of compiler and interpretor without copy paste form internet in your own language"
   ]
  },
  {
   "cell_type": "markdown",
   "id": "5b9d99b6",
   "metadata": {},
   "source": [
    "The compiler is a computer program that translates one programming language to another as a whole, that is it executes the entire source code in one go.The interpreter is a computer program that directly executes the instructions written in a programming language one line at a time, without translate it into machine language.\n",
    "\n",
    "\n"
   ]
  },
  {
   "cell_type": "markdown",
   "id": "0963b482",
   "metadata": {},
   "source": [
    "# 12 . Python is a interpreted of compiled language give a clear ans with your understanding "
   ]
  },
  {
   "cell_type": "markdown",
   "id": "cdb0a617",
   "metadata": {},
   "source": [
    "Python is an interpreted language, which means the source code of a Python program is converted into bytecode that is then executed by the Python virtual machine. Python is different from major compiled languages, such as C and C + +, as Python code is not required to be built and linked like code for these languages."
   ]
  },
  {
   "cell_type": "markdown",
   "id": "f81e306d",
   "metadata": {},
   "source": [
    "# 13 . Try to write a usecase of python with your understanding ."
   ]
  },
  {
   "cell_type": "markdown",
   "id": "09bca602",
   "metadata": {},
   "source": [
    "*Data analytics.\n",
    "*Game development.\n",
    "*Web development. \n",
    "*Machine learning. \n",
    "*Programming applications. \n",
    "\n",
    "\n"
   ]
  },
  {
   "cell_type": "code",
   "execution_count": null,
   "id": "c5e71e13",
   "metadata": {},
   "outputs": [],
   "source": []
  }
 ],
 "metadata": {
  "kernelspec": {
   "display_name": "Python 3 (ipykernel)",
   "language": "python",
   "name": "python3"
  },
  "language_info": {
   "codemirror_mode": {
    "name": "ipython",
    "version": 3
   },
   "file_extension": ".py",
   "mimetype": "text/x-python",
   "name": "python",
   "nbconvert_exporter": "python",
   "pygments_lexer": "ipython3",
   "version": "3.9.7"
  }
 },
 "nbformat": 4,
 "nbformat_minor": 5
}
